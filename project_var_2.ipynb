{
 "cells": [
  {
   "cell_type": "code",
   "execution_count": 5,
   "metadata": {},
   "outputs": [],
   "source": [
    "import pandas as pd\n",
    "import numpy as np\n",
    "import requests\n",
    "from urllib.parse import urlencode"
   ]
  },
  {
   "cell_type": "code",
   "execution_count": 18,
   "metadata": {},
   "outputs": [],
   "source": [
    "# используем api \n",
    "base_url = 'https://cloud-api.yandex.net/v1/disk/public/resources/download?' \n",
    "public_key = 'https://disk.yandex.ru/d/PBW7aUHGuodFDA'\n",
    "public_key1 = 'https://disk.yandex.ru/d/m0Z6QYNT46f9tQ'\n",
    "public_key2 = 'https://disk.yandex.ru/d/lsmdbYB0iM7p3w'\n",
    "public_key3 = 'https://disk.yandex.ru/d/Yse4Y6RJqg_WaA'\n",
    " \n",
    "# получаем url \n",
    "final_url = base_url + urlencode(dict(public_key=public_key)) \n",
    "response = requests.get(final_url) \n",
    "download_url = response.json()['href'] \n",
    "final_url1 = base_url + urlencode(dict(public_key=public_key1))\n",
    "response1 = requests.get(final_url1)\n",
    "download_url1 = response1.json()['href']\n",
    "final_url2 = base_url + urlencode(dict(public_key=public_key2)) \n",
    "response2 = requests.get(final_url2) \n",
    "download_url2 = response2.json()['href'] \n",
    "final_url3 = base_url + urlencode(dict(public_key=public_key3)) \n",
    "response3 = requests.get(final_url3) \n",
    "download_url3 = response3.json()['href']\n",
    " \n",
    "# загружаем файлы \n",
    "download_response = requests.get(download_url) \n",
    "assessments = pd.read_csv(download_url) \n",
    "download_response1 = requests.get(download_url1) \n",
    "courses = pd.read_csv(download_url1) \n",
    "download_response2 = requests.get(download_url2) \n",
    "studentAssessment = pd.read_csv(download_url2)\n",
    "download_response3 = requests.get(download_url3) \n",
    "studentRegistration = pd.read_csv(download_url3)\n",
    "\n"
   ]
  },
  {
   "cell_type": "markdown",
   "metadata": {},
   "source": [
    "# Задача 1:\n",
    "    Сколько студентов успешно сдали только один курс? (Успешная сдача — это зачёт по курсу на экзамене)\n",
    "    \n",
    "    1. Из studentAssessment выделить тех, кто успешно сдал ( набрали больше 40 баллов).\n",
    "    2. Приджойнить к studentAssessment типы ассесментов из файла assessments.\n",
    "    3. Отфильтровать тех, которые относсятся к типу Exam.\n",
    "    4. Посчитать количество уникальных успешно сданных экзаменов для каждого студента.\n",
    "    5. Посчитать количество студентов, у которых успешно сдан только 1 экз."
   ]
  },
  {
   "cell_type": "code",
   "execution_count": 52,
   "metadata": {},
   "outputs": [],
   "source": [
    "task_1 = studentAssessment.query('score > 39') \\\n",
    "    .merge(assessments.query('assessment_type == \"Exam\"')[['id_assessment']].drop_duplicates(), on='id_assessment') \\\n",
    "    .groupby('id_student', as_index=False) \\\n",
    "    .agg({'id_assessment': 'nunique'}) \\\n",
    "    .rename(columns= {'id_assessment': 'successes_count'}) \\\n",
    "    .query('successes_count == 1') \\\n",
    "    .id_student.nunique()"
   ]
  },
  {
   "cell_type": "code",
   "execution_count": 58,
   "metadata": {},
   "outputs": [
    {
     "name": "stdout",
     "output_type": "stream",
     "text": [
      "3802\n"
     ]
    }
   ],
   "source": [
    "print(task_1)"
   ]
  },
  {
   "cell_type": "markdown",
   "metadata": {},
   "source": [
    "# Задача 2\n",
    "    Сколько студентов успешно сдали только один курс? (Успешная сдача — это зачёт по курсу на экзамене)\n",
    "    \n",
    "    1. Из assessments выделить тех, которые являются экзаменами.\n",
    "    2. Приджойнить к studentAssessment типы ассесментов из файла assessments.\n",
    "    3. Отфильтровать только те ассесменты, которые относятся к типу Exam.\n",
    "    4. Посчитать количество уникальных успешных попыток для каждого экзамена.\n",
    "    5. Посчитать количество неуспешных попыток.\n",
    "    6. Вввести новое поле - завершаемость.\n",
    "    7. Вывести ид асессментов - самого сложного и самого простого.\n",
    "    \n",
    "    "
   ]
  },
  {
   "cell_type": "code",
   "execution_count": 82,
   "metadata": {},
   "outputs": [],
   "source": [
    "task_2 = studentAssessment \\\n",
    "    .merge(assessments.query('assessment_type == \"Exam\"')[['id_assessment']].drop_duplicates(), on='id_assessment') \\\n",
    "    .assign(success = lambda x: x.score > 39).astype(int) \\\n",
    "    .groupby('id_assessment', as_index=False) \\\n",
    "    .agg({'success': (sum, len)}) \\\n",
    "    .assign(success_rate = lambda row: row.success['sum']/row.success.len) \\\n",
    "    .sort_values('success_rate') \\\n",
    "    .reset_index(drop=True) \\\n",
    "    .id_assessment"
   ]
  },
  {
   "cell_type": "code",
   "execution_count": 84,
   "metadata": {},
   "outputs": [
    {
     "name": "stdout",
     "output_type": "stream",
     "text": [
      "самый сложный: 25340\n",
      "самый простой: 25361\n"
     ]
    }
   ],
   "source": [
    "print(f'самый сложный: {task_2[0]}\\nсамый простой: {task_2[len(task_2)-1]}')"
   ]
  },
  {
   "cell_type": "markdown",
   "metadata": {},
   "source": [
    "# Задача 3\n",
    "    Выяви самый сложный и самый простой экзамен: найди курсы и экзамены в рамках курса, которые обладают самой низкой и самой высокой завершаемостью\n",
    "    \n",
    "    "
   ]
  },
  {
   "cell_type": "code",
   "execution_count": 87,
   "metadata": {},
   "outputs": [],
   "source": [
    "task_3 = studentAssessment \\\n",
    "    .merge(assessments.query('assessment_type == \"Exam\"')[['id_assessment', 'code_module']].drop_duplicates(), on='id_assessment') \\\n",
    "    .query('is_banked == 0') \\\n",
    "    .groupby('code_module', as_index=False) \\\n",
    "    .agg({'date_submitted': 'mean'})"
   ]
  },
  {
   "cell_type": "code",
   "execution_count": 88,
   "metadata": {},
   "outputs": [
    {
     "data": {
      "text/html": [
       "<div>\n",
       "<style scoped>\n",
       "    .dataframe tbody tr th:only-of-type {\n",
       "        vertical-align: middle;\n",
       "    }\n",
       "\n",
       "    .dataframe tbody tr th {\n",
       "        vertical-align: top;\n",
       "    }\n",
       "\n",
       "    .dataframe thead th {\n",
       "        text-align: right;\n",
       "    }\n",
       "</style>\n",
       "<table border=\"1\" class=\"dataframe\">\n",
       "  <thead>\n",
       "    <tr style=\"text-align: right;\">\n",
       "      <th></th>\n",
       "      <th>code_module</th>\n",
       "      <th>date_submitted</th>\n",
       "    </tr>\n",
       "  </thead>\n",
       "  <tbody>\n",
       "    <tr>\n",
       "      <th>0</th>\n",
       "      <td>CCC</td>\n",
       "      <td>239.408877</td>\n",
       "    </tr>\n",
       "    <tr>\n",
       "      <th>1</th>\n",
       "      <td>DDD</td>\n",
       "      <td>237.901445</td>\n",
       "    </tr>\n",
       "  </tbody>\n",
       "</table>\n",
       "</div>"
      ],
      "text/plain": [
       "  code_module  date_submitted\n",
       "0         CCC      239.408877\n",
       "1         DDD      237.901445"
      ]
     },
     "execution_count": 88,
     "metadata": {},
     "output_type": "execute_result"
    }
   ],
   "source": [
    "task_3"
   ]
  },
  {
   "cell_type": "markdown",
   "metadata": {},
   "source": [
    "# Задача 4\n",
    "    Выяви самые популярные предметы (ТОП-3) по количеству регистраций на них. А также предметы с самым большим оттоком (ТОП-3).\n",
    "    \n",
    "    1. Для каждого семестра в таблице studentRegistration рассчитать уникальное количество зарегестрировавшихся\n",
    "    2. Для каждого семестра в таблице studentRegistration рассчитать уникальное количество отписавшихся"
   ]
  },
  {
   "cell_type": "code",
   "execution_count": 97,
   "metadata": {},
   "outputs": [],
   "source": [
    "task_4_top3 = studentRegistration.groupby('code_module', as_index=False) \\\n",
    "    .id_student.nunique() \\\n",
    "    .sort_values('id_student', ascending=False) \\\n",
    "    .rename(columns={'id_student': 'registration_count'}) \\\n",
    "    .head(3)\n",
    "    \n",
    "task_4_churn_top3 = studentRegistration[~studentRegistration.date_unregistration.isna()] \\\n",
    "    .groupby('code_module', as_index=False) \\\n",
    "    .id_student.nunique() \\\n",
    "    .sort_values('id_student', ascending=False) \\\n",
    "    .rename(columns={'id_student':'unregistrations_count'}) \\\n",
    "    .head(3)"
   ]
  },
  {
   "cell_type": "code",
   "execution_count": 98,
   "metadata": {},
   "outputs": [
    {
     "data": {
      "text/html": [
       "<div>\n",
       "<style scoped>\n",
       "    .dataframe tbody tr th:only-of-type {\n",
       "        vertical-align: middle;\n",
       "    }\n",
       "\n",
       "    .dataframe tbody tr th {\n",
       "        vertical-align: top;\n",
       "    }\n",
       "\n",
       "    .dataframe thead th {\n",
       "        text-align: right;\n",
       "    }\n",
       "</style>\n",
       "<table border=\"1\" class=\"dataframe\">\n",
       "  <thead>\n",
       "    <tr style=\"text-align: right;\">\n",
       "      <th></th>\n",
       "      <th>code_module</th>\n",
       "      <th>registration_count</th>\n",
       "    </tr>\n",
       "  </thead>\n",
       "  <tbody>\n",
       "    <tr>\n",
       "      <th>1</th>\n",
       "      <td>BBB</td>\n",
       "      <td>7692</td>\n",
       "    </tr>\n",
       "    <tr>\n",
       "      <th>5</th>\n",
       "      <td>FFF</td>\n",
       "      <td>7397</td>\n",
       "    </tr>\n",
       "    <tr>\n",
       "      <th>3</th>\n",
       "      <td>DDD</td>\n",
       "      <td>5848</td>\n",
       "    </tr>\n",
       "  </tbody>\n",
       "</table>\n",
       "</div>"
      ],
      "text/plain": [
       "  code_module  registration_count\n",
       "1         BBB                7692\n",
       "5         FFF                7397\n",
       "3         DDD                5848"
      ]
     },
     "execution_count": 98,
     "metadata": {},
     "output_type": "execute_result"
    }
   ],
   "source": [
    "task_4_top3"
   ]
  },
  {
   "cell_type": "code",
   "execution_count": 99,
   "metadata": {},
   "outputs": [
    {
     "data": {
      "text/html": [
       "<div>\n",
       "<style scoped>\n",
       "    .dataframe tbody tr th:only-of-type {\n",
       "        vertical-align: middle;\n",
       "    }\n",
       "\n",
       "    .dataframe tbody tr th {\n",
       "        vertical-align: top;\n",
       "    }\n",
       "\n",
       "    .dataframe thead th {\n",
       "        text-align: right;\n",
       "    }\n",
       "</style>\n",
       "<table border=\"1\" class=\"dataframe\">\n",
       "  <thead>\n",
       "    <tr style=\"text-align: right;\">\n",
       "      <th></th>\n",
       "      <th>code_module</th>\n",
       "      <th>unregistrations_count</th>\n",
       "    </tr>\n",
       "  </thead>\n",
       "  <tbody>\n",
       "    <tr>\n",
       "      <th>1</th>\n",
       "      <td>BBB</td>\n",
       "      <td>2314</td>\n",
       "    </tr>\n",
       "    <tr>\n",
       "      <th>5</th>\n",
       "      <td>FFF</td>\n",
       "      <td>2249</td>\n",
       "    </tr>\n",
       "    <tr>\n",
       "      <th>3</th>\n",
       "      <td>DDD</td>\n",
       "      <td>2065</td>\n",
       "    </tr>\n",
       "  </tbody>\n",
       "</table>\n",
       "</div>"
      ],
      "text/plain": [
       "  code_module  unregistrations_count\n",
       "1         BBB                   2314\n",
       "5         FFF                   2249\n",
       "3         DDD                   2065"
      ]
     },
     "execution_count": 99,
     "metadata": {},
     "output_type": "execute_result"
    }
   ],
   "source": [
    "task_4_churn_top3"
   ]
  },
  {
   "cell_type": "markdown",
   "metadata": {},
   "source": [
    "# Задание 5\n",
    "    Напиши функцию на python, позволяющую строить когортный (семестровый) анализ. В период с начала 2013 по конец 2014 выяви семестр с самой низкой завершаемостью курсов и самыми долгими средними сроками сдачи курсов.\n",
    "    \n",
    "    1. Из таблицы studentAssessment выделить те экзамены, которые не были зачтены ранее.\n",
    "    2. Рассчитать на основе поля score факт успешности экзамена.\n",
    "    3. Для успешных экзаменов выделить средние сроки их сдачи.\n",
    "    4. Для каждого семестра рассчитать среднюю завершаемость и средние сроки сдачи"
   ]
  },
  {
   "cell_type": "code",
   "execution_count": 117,
   "metadata": {},
   "outputs": [],
   "source": [
    "task_5 = studentAssessment.query('is_banked == 0') \\\n",
    "    .merge(assessments.query('assessment_type == \"Exam\"')[['id_assessment', 'code_presentation']].drop_duplicates(), on='id_assessment') \\\n",
    "    .assign(success = lambda x: (x.score > 39).astype(int),\n",
    "            success_date_submitted = lambda x: x.success * x.date_submitted) \\\n",
    "    .groupby('code_presentation', as_index=False) \\\n",
    "    .agg({'success': 'mean',\n",
    "          'success_date_submitted': [lambda x: np.average(x, weights=(x > 0))]})\n",
    "task_5.columns = task_5.columns.droplevel(level=1)"
   ]
  },
  {
   "cell_type": "code",
   "execution_count": 118,
   "metadata": {},
   "outputs": [
    {
     "data": {
      "text/html": [
       "<div>\n",
       "<style scoped>\n",
       "    .dataframe tbody tr th:only-of-type {\n",
       "        vertical-align: middle;\n",
       "    }\n",
       "\n",
       "    .dataframe tbody tr th {\n",
       "        vertical-align: top;\n",
       "    }\n",
       "\n",
       "    .dataframe thead th {\n",
       "        text-align: right;\n",
       "    }\n",
       "</style>\n",
       "<table border=\"1\" class=\"dataframe\">\n",
       "  <thead>\n",
       "    <tr style=\"text-align: right;\">\n",
       "      <th></th>\n",
       "      <th>code_presentation</th>\n",
       "      <th>success</th>\n",
       "      <th>success_date_submitted</th>\n",
       "    </tr>\n",
       "  </thead>\n",
       "  <tbody>\n",
       "    <tr>\n",
       "      <th>0</th>\n",
       "      <td>2013B</td>\n",
       "      <td>0.837209</td>\n",
       "      <td>230.164683</td>\n",
       "    </tr>\n",
       "    <tr>\n",
       "      <th>1</th>\n",
       "      <td>2013J</td>\n",
       "      <td>0.907025</td>\n",
       "      <td>239.509112</td>\n",
       "    </tr>\n",
       "    <tr>\n",
       "      <th>2</th>\n",
       "      <td>2014B</td>\n",
       "      <td>0.904013</td>\n",
       "      <td>232.997389</td>\n",
       "    </tr>\n",
       "    <tr>\n",
       "      <th>3</th>\n",
       "      <td>2014J</td>\n",
       "      <td>0.878659</td>\n",
       "      <td>243.680279</td>\n",
       "    </tr>\n",
       "  </tbody>\n",
       "</table>\n",
       "</div>"
      ],
      "text/plain": [
       "  code_presentation   success  success_date_submitted\n",
       "0             2013B  0.837209              230.164683\n",
       "1             2013J  0.907025              239.509112\n",
       "2             2014B  0.904013              232.997389\n",
       "3             2014J  0.878659              243.680279"
      ]
     },
     "execution_count": 118,
     "metadata": {},
     "output_type": "execute_result"
    }
   ],
   "source": [
    "task_5"
   ]
  },
  {
   "cell_type": "markdown",
   "metadata": {},
   "source": [
    "# Задание 6\n",
    "    Используя python, построй адаптированные RFM-кластеры студентов, чтобы качественно оценить свою аудиторию. Для каждого RFM-сегмента построй границы метрик recency, frequency и monetary для интерпретации этих кластеров.\n",
    "    \n",
    "    1. Из studentAssessment выделить только те экзамены, которые не были перезачтены\n",
    "    2. Приджойнить к StudentAssessment (типы ассессментов из файла assessments)\n",
    "    3. Отфильтровать только те ассесменты, которые относятся к типу Exam\n",
    "    4. Для каждого студента рассчитать его средние : завершаемость, кол-во баллов, время сдачи одного экзамена\n",
    "    5. Получить интервалы по 25, 50 и 75 процентилям для каждой метрики\n",
    "    6. Заметим, что по завершаемости имеется только 2 кластера: среднее больше 1 или меньше 1 - скорректируем интервалы\n",
    "    7. Разместим студентов по их кластерам"
   ]
  },
  {
   "cell_type": "code",
   "execution_count": 123,
   "metadata": {},
   "outputs": [],
   "source": [
    "task_6_preproc = studentAssessment.query('is_banked == 0') \\\n",
    "    .merge(assessments.query('assessment_type == \"Exam\"')[['id_assessment', 'code_presentation']].drop_duplicates(), on='id_assessment') \\\n",
    "    .assign(success = lambda x: (x.score > 39).astype(int),\n",
    "            success_date_submitted = lambda x: x.success * x.date_submitted) \\\n",
    "    .groupby('id_student', as_index=False) \\\n",
    "    .agg({'success': 'mean',\n",
    "          'success_date_submitted': 'mean',\n",
    "          'score': 'mean'})\n",
    "\n",
    "intervals = {\n",
    "    'R': list(task_6_preproc.success_date_submitted.describe())[3:],\n",
    "    'F': list(task_6_preproc.success.describe())[3:5],\n",
    "    'M': list(task_6_preproc.score.describe())[3:]\n",
    "}\n",
    "\n",
    "task_6 = task_6_preproc.assign(\n",
    "    recency = lambda x: np.digitize(x.success, intervals.get('R')),\n",
    "    frequance = lambda x: np.digitize(x.success_date_submitted, intervals.get('F')),\n",
    "    monetary = lambda x: np.digitize(x.score, intervals.get('M')))[['id_student', 'recency', 'frequance', 'monetary']]"
   ]
  },
  {
   "cell_type": "code",
   "execution_count": 124,
   "metadata": {},
   "outputs": [
    {
     "data": {
      "text/html": [
       "<div>\n",
       "<style scoped>\n",
       "    .dataframe tbody tr th:only-of-type {\n",
       "        vertical-align: middle;\n",
       "    }\n",
       "\n",
       "    .dataframe tbody tr th {\n",
       "        vertical-align: top;\n",
       "    }\n",
       "\n",
       "    .dataframe thead th {\n",
       "        text-align: right;\n",
       "    }\n",
       "</style>\n",
       "<table border=\"1\" class=\"dataframe\">\n",
       "  <thead>\n",
       "    <tr style=\"text-align: right;\">\n",
       "      <th></th>\n",
       "      <th>id_student</th>\n",
       "      <th>recency</th>\n",
       "      <th>frequance</th>\n",
       "      <th>monetary</th>\n",
       "    </tr>\n",
       "  </thead>\n",
       "  <tbody>\n",
       "    <tr>\n",
       "      <th>0</th>\n",
       "      <td>23698</td>\n",
       "      <td>1</td>\n",
       "      <td>2</td>\n",
       "      <td>3</td>\n",
       "    </tr>\n",
       "    <tr>\n",
       "      <th>1</th>\n",
       "      <td>24213</td>\n",
       "      <td>1</td>\n",
       "      <td>2</td>\n",
       "      <td>2</td>\n",
       "    </tr>\n",
       "    <tr>\n",
       "      <th>2</th>\n",
       "      <td>27116</td>\n",
       "      <td>1</td>\n",
       "      <td>2</td>\n",
       "      <td>4</td>\n",
       "    </tr>\n",
       "    <tr>\n",
       "      <th>3</th>\n",
       "      <td>28046</td>\n",
       "      <td>1</td>\n",
       "      <td>2</td>\n",
       "      <td>1</td>\n",
       "    </tr>\n",
       "    <tr>\n",
       "      <th>4</th>\n",
       "      <td>28787</td>\n",
       "      <td>1</td>\n",
       "      <td>2</td>\n",
       "      <td>1</td>\n",
       "    </tr>\n",
       "    <tr>\n",
       "      <th>...</th>\n",
       "      <td>...</td>\n",
       "      <td>...</td>\n",
       "      <td>...</td>\n",
       "      <td>...</td>\n",
       "    </tr>\n",
       "    <tr>\n",
       "      <th>4628</th>\n",
       "      <td>2694886</td>\n",
       "      <td>1</td>\n",
       "      <td>2</td>\n",
       "      <td>3</td>\n",
       "    </tr>\n",
       "    <tr>\n",
       "      <th>4629</th>\n",
       "      <td>2694933</td>\n",
       "      <td>1</td>\n",
       "      <td>2</td>\n",
       "      <td>3</td>\n",
       "    </tr>\n",
       "    <tr>\n",
       "      <th>4630</th>\n",
       "      <td>2695608</td>\n",
       "      <td>1</td>\n",
       "      <td>2</td>\n",
       "      <td>3</td>\n",
       "    </tr>\n",
       "    <tr>\n",
       "      <th>4631</th>\n",
       "      <td>2697181</td>\n",
       "      <td>1</td>\n",
       "      <td>2</td>\n",
       "      <td>3</td>\n",
       "    </tr>\n",
       "    <tr>\n",
       "      <th>4632</th>\n",
       "      <td>2698251</td>\n",
       "      <td>1</td>\n",
       "      <td>2</td>\n",
       "      <td>1</td>\n",
       "    </tr>\n",
       "  </tbody>\n",
       "</table>\n",
       "<p>4633 rows × 4 columns</p>\n",
       "</div>"
      ],
      "text/plain": [
       "      id_student  recency  frequance  monetary\n",
       "0          23698        1          2         3\n",
       "1          24213        1          2         2\n",
       "2          27116        1          2         4\n",
       "3          28046        1          2         1\n",
       "4          28787        1          2         1\n",
       "...          ...      ...        ...       ...\n",
       "4628     2694886        1          2         3\n",
       "4629     2694933        1          2         3\n",
       "4630     2695608        1          2         3\n",
       "4631     2697181        1          2         3\n",
       "4632     2698251        1          2         1\n",
       "\n",
       "[4633 rows x 4 columns]"
      ]
     },
     "execution_count": 124,
     "metadata": {},
     "output_type": "execute_result"
    }
   ],
   "source": [
    "task_6"
   ]
  }
 ],
 "metadata": {
  "kernelspec": {
   "display_name": "Python 3",
   "language": "python",
   "name": "python3"
  },
  "language_info": {
   "codemirror_mode": {
    "name": "ipython",
    "version": 3
   },
   "file_extension": ".py",
   "mimetype": "text/x-python",
   "name": "python",
   "nbconvert_exporter": "python",
   "pygments_lexer": "ipython3",
   "version": "3.7.3"
  }
 },
 "nbformat": 4,
 "nbformat_minor": 4
}
